{
  "nbformat": 4,
  "nbformat_minor": 0,
  "metadata": {
    "colab": {
      "name": "Mini Project -Image Classification.ipynb",
      "provenance": [],
      "collapsed_sections": [],
      "authorship_tag": "ABX9TyNg+BkKABKH6WZ70f3wyZ++",
      "include_colab_link": true
    },
    "kernelspec": {
      "display_name": "Python 3",
      "name": "python3"
    },
    "language_info": {
      "name": "python"
    }
  },
  "cells": [
    {
      "cell_type": "markdown",
      "metadata": {
        "id": "view-in-github",
        "colab_type": "text"
      },
      "source": [
        "<a href=\"https://colab.research.google.com/github/Meghana-ssr/Mini-Project---Image-Classification/blob/main/Mini_Project_Image_Classification.ipynb\" target=\"_parent\"><img src=\"https://colab.research.google.com/assets/colab-badge.svg\" alt=\"Open In Colab\"/></a>"
      ]
    },
    {
      "cell_type": "code",
      "metadata": {
        "colab": {
          "base_uri": "https://localhost:8080/"
        },
        "id": "yVYqtmWWUqg2",
        "outputId": "c76d726b-fa9a-43c3-c8f8-2a1902d6d3ae"
      },
      "source": [
        "!pip install bing-image-downloader"
      ],
      "execution_count": 1,
      "outputs": [
        {
          "output_type": "stream",
          "text": [
            "Collecting bing-image-downloader\n",
            "  Downloading https://files.pythonhosted.org/packages/0d/bf/537a61030b84ae4cd5022d5c7b014fd9bc3ce7c02358919153a6658a61d3/bing_image_downloader-1.0.4-py3-none-any.whl\n",
            "Installing collected packages: bing-image-downloader\n",
            "Successfully installed bing-image-downloader-1.0.4\n"
          ],
          "name": "stdout"
        }
      ]
    },
    {
      "cell_type": "code",
      "metadata": {
        "id": "3dTBMbFEZCHy"
      },
      "source": [
        "!mkdir images"
      ],
      "execution_count": 2,
      "outputs": []
    },
    {
      "cell_type": "code",
      "metadata": {
        "colab": {
          "base_uri": "https://localhost:8080/"
        },
        "id": "RAH5eH6uZJAF",
        "outputId": "3e93b8aa-45a1-46d1-8377-537db51b694a"
      },
      "source": [
        "from bing_image_downloader import downloader\n",
        "downloader.download(\"bike\",limit=30,output_dir='images',adult_filter_off=True)"
      ],
      "execution_count": 3,
      "outputs": [
        {
          "output_type": "stream",
          "text": [
            "\n",
            "\n",
            "[!!]Indexing page: 1\n",
            "\n",
            "[%] Indexed 10 Images on Page 1.\n",
            "\n",
            "===============================================\n",
            "\n",
            "[%] Downloading Image #1 from https://1.bp.blogspot.com/-GC0-3nftgi8/ULSWodlSSFI/AAAAAAACCKU/gtYHfI7FFdw/s1600/Vintage+Photos+of+Girls+in+Mini+Skirts+on+Bikes+(6).jpg\n",
            "[%] File Downloaded !\n",
            "\n",
            "[%] Downloading Image #2 from http://cdn.architecturendesign.net/wp-content/uploads/2016/03/AD-Examples-Of-Urban-Design-Which-Ought-To-Be-In-Every-City-08.jpeg\n",
            "[%] File Downloaded !\n",
            "\n",
            "[%] Downloading Image #3 from https://chips-tv.com/wiki/images/thumb/2/2a/1267469185_75339_14.jpg/300px-1267469185_75339_14.jpg\n",
            "[%] File Downloaded !\n",
            "\n",
            "[%] Downloading Image #4 from https://www.setaswall.com/wp-content/uploads/2018/05/Planet-Ultra-HD-Wallpaper-720x1480-380x781.jpg\n",
            "[%] File Downloaded !\n",
            "\n",
            "[%] Downloading Image #5 from http://www.whipsix.com/images/thumbnails/0/300/IMG_4463.jpg\n",
            "[%] File Downloaded !\n",
            "\n",
            "[%] Downloading Image #6 from http://www.cicloclubvalmontone.it/wp-content/uploads/2016/02/castelluccio5-1200x610.jpg\n",
            "[%] File Downloaded !\n",
            "\n",
            "[%] Downloading Image #7 from http://papers.co/wallpaper/papers.co-mf22-surf-wave-sea-ocean-sports-34-iphone6-plus-wallpaper.jpg\n",
            "[%] File Downloaded !\n",
            "\n",
            "[%] Downloading Image #8 from http://www.toxel.com/wp-content/uploads/2016/12/renastarwars10.jpg\n",
            "[%] File Downloaded !\n",
            "\n",
            "[%] Downloading Image #9 from https://cdn.designbump.com/wp-content/uploads/2015/05/product-industrial-design-005.jpg\n",
            "[%] File Downloaded !\n",
            "\n",
            "[%] Downloading Image #10 from http://www.diycraftsguru.com/wp-content/uploads/2016/04/05-kids-backyard-playground.jpg\n",
            "[%] File Downloaded !\n",
            "\n",
            "\n",
            "\n",
            "[!!]Indexing page: 2\n",
            "\n",
            "[%] Indexed 12 Images on Page 2.\n",
            "\n",
            "===============================================\n",
            "\n",
            "[%] Downloading Image #11 from https://files.illinoispolicy.org/wp-content/uploads/2014/02/pee-wee1.jpg\n",
            "[!] Issue getting: https://files.illinoispolicy.org/wp-content/uploads/2014/02/pee-wee1.jpg\n",
            "[!] Error:: HTTP Error 403: Forbidden\n",
            "[%] Downloading Image #11 from https://wallpapershome.com/images/wallpapers/resident-evil-2-1920x1080-e3-2018-screenshot-4k-19243.jpg\n",
            "[%] File Downloaded !\n",
            "\n",
            "[%] Downloading Image #12 from https://www.magnonindia.com/wp-content/uploads/2018/07/Froyer_11.jpg\n",
            "[%] File Downloaded !\n",
            "\n",
            "[%] Downloading Image #13 from http://rei.com/assets/img/adventures/trip/gallery/pacific/nzc_05.jpg\n",
            "[!] Issue getting: http://rei.com/assets/img/adventures/trip/gallery/pacific/nzc_05.jpg\n",
            "[!] Error:: timed out\n",
            "[%] Downloading Image #13 from https://classic-motorbikes.net/wp-content/uploads/2015/10/13383.jpg\n",
            "[%] File Downloaded !\n",
            "\n",
            "[%] Downloading Image #14 from https://www.setaswall.com/wp-content/uploads/2018/04/Mountain-Way-Wallpaper-1080x2280-380x802.jpg\n",
            "[%] File Downloaded !\n",
            "\n",
            "[%] Downloading Image #15 from https://thefappening.pro/wp-content/uploads/2020/06/Kate-Hudson-Sexy-Bike-Ride-In-Malibu-TheFappening-Pro-34.jpg\n",
            "[!] Issue getting: https://thefappening.pro/wp-content/uploads/2020/06/Kate-Hudson-Sexy-Bike-Ride-In-Malibu-TheFappening-Pro-34.jpg\n",
            "[!] Error:: HTTP Error 403: Forbidden\n",
            "[%] Downloading Image #15 from https://www.centralpark.com/downloads/1447/download/central-park-carousel-clown.jpe?cb=783665e2e86dabe11fdbe675f24e26c4&amp;w=1200\n",
            "[%] File Downloaded !\n",
            "\n",
            "[%] Downloading Image #16 from https://www.anime-planet.com/images/characters/celty-sturluson-4168.jpg\n",
            "[%] File Downloaded !\n",
            "\n",
            "[%] Downloading Image #17 from https://www.setaswall.com/wp-content/uploads/2018/05/1080x2246-Wallpaper-226-380x790.jpg\n",
            "[%] File Downloaded !\n",
            "\n",
            "[%] Downloading Image #18 from http://byronicart.com/wp-content/uploads/2016/01/1PM01.jpg\n",
            "[%] File Downloaded !\n",
            "\n",
            "[%] Downloading Image #19 from https://segredosdavovo.com.br/wp-content/uploads/2014/07/segredos-da-vovo-festa-masc.jpg\n",
            "[%] File Downloaded !\n",
            "\n",
            "\n",
            "\n",
            "[!!]Indexing page: 3\n",
            "\n",
            "[%] Indexed 11 Images on Page 3.\n",
            "\n",
            "===============================================\n",
            "\n",
            "[%] Downloading Image #20 from http://rei.com/assets/img/adventures/trip/gallery/pacific/nzc_05.jpg\n",
            "[!] Issue getting: http://rei.com/assets/img/adventures/trip/gallery/pacific/nzc_05.jpg\n",
            "[!] Error:: timed out\n",
            "[%] Downloading Image #20 from https://classic-motorbikes.net/wp-content/uploads/2015/10/13383.jpg\n",
            "[%] File Downloaded !\n",
            "\n",
            "[%] Downloading Image #21 from https://www.setaswall.com/wp-content/uploads/2018/04/Mountain-Way-Wallpaper-1080x2280-380x802.jpg\n",
            "[%] File Downloaded !\n",
            "\n",
            "[%] Downloading Image #22 from https://thefappening.pro/wp-content/uploads/2020/06/Kate-Hudson-Sexy-Bike-Ride-In-Malibu-TheFappening-Pro-34.jpg\n",
            "[!] Issue getting: https://thefappening.pro/wp-content/uploads/2020/06/Kate-Hudson-Sexy-Bike-Ride-In-Malibu-TheFappening-Pro-34.jpg\n",
            "[!] Error:: HTTP Error 403: Forbidden\n",
            "[%] Downloading Image #22 from https://www.centralpark.com/downloads/1447/download/central-park-carousel-clown.jpe?cb=783665e2e86dabe11fdbe675f24e26c4&amp;w=1200\n",
            "[%] File Downloaded !\n",
            "\n",
            "[%] Downloading Image #23 from https://www.anime-planet.com/images/characters/celty-sturluson-4168.jpg\n",
            "[%] File Downloaded !\n",
            "\n",
            "[%] Downloading Image #24 from https://www.setaswall.com/wp-content/uploads/2018/05/1080x2246-Wallpaper-226-380x790.jpg\n",
            "[%] File Downloaded !\n",
            "\n",
            "[%] Downloading Image #25 from http://byronicart.com/wp-content/uploads/2016/01/1PM01.jpg\n",
            "[%] File Downloaded !\n",
            "\n",
            "[%] Downloading Image #26 from https://segredosdavovo.com.br/wp-content/uploads/2014/07/segredos-da-vovo-festa-masc.jpg\n",
            "[%] File Downloaded !\n",
            "\n",
            "[%] Downloading Image #27 from https://wallpapershome.com/images/wallpapers/resident-evil-2-1920x1080-e3-2018-screenshot-4k-19243.jpg\n",
            "[%] File Downloaded !\n",
            "\n",
            "[%] Downloading Image #28 from https://www.magnonindia.com/wp-content/uploads/2018/07/Froyer_11.jpg\n",
            "[%] File Downloaded !\n",
            "\n",
            "\n",
            "\n",
            "[!!]Indexing page: 4\n",
            "\n",
            "[%] Indexed 8 Images on Page 4.\n",
            "\n",
            "===============================================\n",
            "\n",
            "[%] Downloading Image #29 from http://www.whipsix.com/images/thumbnails/0/300/IMG_4463.jpg\n",
            "[%] File Downloaded !\n",
            "\n",
            "[%] Downloading Image #30 from http://www.diycraftsguru.com/wp-content/uploads/2016/04/05-kids-backyard-playground.jpg\n",
            "[%] File Downloaded !\n",
            "\n",
            "\n",
            "\n",
            "[%] Done. Downloaded 30 images.\n",
            "\n",
            "===============================================\n",
            "\n"
          ],
          "name": "stdout"
        }
      ]
    },
    {
      "cell_type": "code",
      "metadata": {
        "colab": {
          "base_uri": "https://localhost:8080/"
        },
        "id": "N8WG4XynZrfb",
        "outputId": "5860ee4d-b1a5-4860-9f37-ce5e190ca10c"
      },
      "source": [
        "downloader.download(\"dogs\",limit=30,output_dir='images',adult_filter_off=True)"
      ],
      "execution_count": 4,
      "outputs": [
        {
          "output_type": "stream",
          "text": [
            "\n",
            "\n",
            "[!!]Indexing page: 1\n",
            "\n",
            "[%] Indexed 12 Images on Page 1.\n",
            "\n",
            "===============================================\n",
            "\n",
            "[%] Downloading Image #1 from http://media1.santabanta.com/full1/Animals/Dogs/dog20v.jpg\n",
            "[%] File Downloaded !\n",
            "\n",
            "[%] Downloading Image #2 from http://1.bp.blogspot.com/-oVa72zpi2NA/T2sSQMEZoCI/AAAAAAAANjc/CIMaZ9I68f4/s640/278871401895608811_Uk8aOP3Z_c.jpg\n",
            "[%] File Downloaded !\n",
            "\n",
            "[%] Downloading Image #3 from http://images6.fanpop.com/image/photos/32700000/camila-all-small-dogs-32784916-1936-2592.jpg\n",
            "[%] File Downloaded !\n",
            "\n",
            "[%] Downloading Image #4 from http://3.bp.blogspot.com/-_kVoxQ-KjlA/TqVox_7wnUI/AAAAAAAAAU0/7mHSjaK8Wts/s1600/funny-dogs-images.jpg\n",
            "[%] File Downloaded !\n",
            "\n",
            "[%] Downloading Image #5 from http://i.ytimg.com/vi/7TpgIIU7PQY/hqdefault.jpg\n",
            "[%] File Downloaded !\n",
            "\n",
            "[%] Downloading Image #6 from http://www.guardianpoolfence.com/wp-content/uploads/2011/11/temporary-fencing-for-dogs.jpg\n",
            "[%] File Downloaded !\n",
            "\n",
            "[%] Downloading Image #7 from http://rack.3.mshcdn.com/media/ZgkyMDEzLzAyLzIxL2M3LzI4NzQxMzA4NzYuYThhODMuanBnCnAJdGh1bWIJMTIwMHg2MjcjCmUJanBn/ab999bf9/2f9/2874130876_4eed74507c_o.jpg\n",
            "[%] File Downloaded !\n",
            "\n",
            "[%] Downloading Image #8 from http://izismile.com/img/img2/20090217/bonus/3/dogs_04.jpg\n",
            "[%] File Downloaded !\n",
            "\n",
            "[%] Downloading Image #9 from http://ww1.prweb.com/prfiles/2008/08/24/248994/PuppyMill3.jpg\n",
            "[%] File Downloaded !\n",
            "\n",
            "[%] Downloading Image #10 from http://img.xcitefun.net/users/2012/12/313979,xcitefun-biggest-dogs-3.jpg\n",
            "[%] File Downloaded !\n",
            "\n",
            "[%] Downloading Image #11 from http://www.boxer-dogs-guide.com/images/trixi-pure-white-boxer-21295434.jpg\n",
            "[%] File Downloaded !\n",
            "\n",
            "[%] Downloading Image #12 from http://www.cornel1801.com/animated/All-Dogs-Go-to-Heaven-1989/characters/Stella-Dallas.jpg\n",
            "[%] File Downloaded !\n",
            "\n",
            "\n",
            "\n",
            "[!!]Indexing page: 2\n",
            "\n",
            "[%] Indexed 12 Images on Page 2.\n",
            "\n",
            "===============================================\n",
            "\n",
            "[%] Downloading Image #13 from http://media1.santabanta.com/full1/Animals/Dogs/dog20v.jpg\n",
            "[%] File Downloaded !\n",
            "\n",
            "[%] Downloading Image #14 from http://1.bp.blogspot.com/-oVa72zpi2NA/T2sSQMEZoCI/AAAAAAAANjc/CIMaZ9I68f4/s640/278871401895608811_Uk8aOP3Z_c.jpg\n",
            "[%] File Downloaded !\n",
            "\n",
            "[%] Downloading Image #15 from http://images6.fanpop.com/image/photos/32700000/camila-all-small-dogs-32784916-1936-2592.jpg\n",
            "[%] File Downloaded !\n",
            "\n",
            "[%] Downloading Image #16 from http://3.bp.blogspot.com/-_kVoxQ-KjlA/TqVox_7wnUI/AAAAAAAAAU0/7mHSjaK8Wts/s1600/funny-dogs-images.jpg\n",
            "[%] File Downloaded !\n",
            "\n",
            "[%] Downloading Image #17 from http://i.ytimg.com/vi/7TpgIIU7PQY/hqdefault.jpg\n",
            "[%] File Downloaded !\n",
            "\n",
            "[%] Downloading Image #18 from http://www.guardianpoolfence.com/wp-content/uploads/2011/11/temporary-fencing-for-dogs.jpg\n",
            "[%] File Downloaded !\n",
            "\n",
            "[%] Downloading Image #19 from http://rack.3.mshcdn.com/media/ZgkyMDEzLzAyLzIxL2M3LzI4NzQxMzA4NzYuYThhODMuanBnCnAJdGh1bWIJMTIwMHg2MjcjCmUJanBn/ab999bf9/2f9/2874130876_4eed74507c_o.jpg\n",
            "[%] File Downloaded !\n",
            "\n",
            "[%] Downloading Image #20 from http://izismile.com/img/img2/20090217/bonus/3/dogs_04.jpg\n",
            "[%] File Downloaded !\n",
            "\n",
            "[%] Downloading Image #21 from http://ww1.prweb.com/prfiles/2008/08/24/248994/PuppyMill3.jpg\n",
            "[%] File Downloaded !\n",
            "\n",
            "[%] Downloading Image #22 from http://img.xcitefun.net/users/2012/12/313979,xcitefun-biggest-dogs-3.jpg\n",
            "[%] File Downloaded !\n",
            "\n",
            "[%] Downloading Image #23 from http://www.boxer-dogs-guide.com/images/trixi-pure-white-boxer-21295434.jpg\n",
            "[%] File Downloaded !\n",
            "\n",
            "[%] Downloading Image #24 from http://www.cornel1801.com/animated/All-Dogs-Go-to-Heaven-1989/characters/Stella-Dallas.jpg\n",
            "[%] File Downloaded !\n",
            "\n",
            "\n",
            "\n",
            "[!!]Indexing page: 3\n",
            "\n",
            "[%] Indexed 11 Images on Page 3.\n",
            "\n",
            "===============================================\n",
            "\n",
            "[%] Downloading Image #25 from http://1.bp.blogspot.com/-oVa72zpi2NA/T2sSQMEZoCI/AAAAAAAANjc/CIMaZ9I68f4/s640/278871401895608811_Uk8aOP3Z_c.jpg\n",
            "[%] File Downloaded !\n",
            "\n",
            "[%] Downloading Image #26 from http://images6.fanpop.com/image/photos/32700000/camila-all-small-dogs-32784916-1936-2592.jpg\n",
            "[%] File Downloaded !\n",
            "\n",
            "[%] Downloading Image #27 from http://3.bp.blogspot.com/-_kVoxQ-KjlA/TqVox_7wnUI/AAAAAAAAAU0/7mHSjaK8Wts/s1600/funny-dogs-images.jpg\n",
            "[%] File Downloaded !\n",
            "\n",
            "[%] Downloading Image #28 from http://i.ytimg.com/vi/7TpgIIU7PQY/hqdefault.jpg\n",
            "[%] File Downloaded !\n",
            "\n",
            "[%] Downloading Image #29 from http://www.guardianpoolfence.com/wp-content/uploads/2011/11/temporary-fencing-for-dogs.jpg\n",
            "[%] File Downloaded !\n",
            "\n",
            "[%] Downloading Image #30 from http://rack.3.mshcdn.com/media/ZgkyMDEzLzAyLzIxL2M3LzI4NzQxMzA4NzYuYThhODMuanBnCnAJdGh1bWIJMTIwMHg2MjcjCmUJanBn/ab999bf9/2f9/2874130876_4eed74507c_o.jpg\n",
            "[%] File Downloaded !\n",
            "\n",
            "\n",
            "\n",
            "[%] Done. Downloaded 30 images.\n",
            "\n",
            "===============================================\n",
            "\n"
          ],
          "name": "stdout"
        }
      ]
    },
    {
      "cell_type": "code",
      "metadata": {
        "id": "L4yK3pN4a8VY"
      },
      "source": [
        "import os\n",
        "import matplotlib.pyplot as plt\n",
        "import numpy as np\n",
        "from skimage.io import imread\n",
        "from skimage.transform import resize\n"
      ],
      "execution_count": 5,
      "outputs": []
    },
    {
      "cell_type": "code",
      "metadata": {
        "id": "k68uXxGVbbJl"
      },
      "source": [
        "target = []\n",
        "images = []\n",
        "flat_data = []\n",
        "\n",
        "Dir = '/content/images'\n",
        "categories = ['bike','dogs']\n",
        "\n",
        "for i in categories:\n",
        "  category_num = categories.index(i)\n",
        "  path=os.path.join(Dir,i)\n",
        "  for img in os.listdir(path):\n",
        "    img_array = imread(os.path.join(path,img))\n",
        "    img_resized = resize(img_array,(150,150,3))\n",
        "    flat_data.append(img_resized.flatten())\n",
        "    images.append(img_resized)\n",
        "    target.append(category_num)\n",
        "\n",
        "flat_data = np.array(flat_data)\n",
        "target = np.array(target)\n",
        "images = np.array(images)"
      ],
      "execution_count": 6,
      "outputs": []
    },
    {
      "cell_type": "code",
      "metadata": {
        "id": "ugM375kwbx8H"
      },
      "source": [
        "from sklearn.model_selection import train_test_split\n",
        "x_train,x_test,y_train,y_test = train_test_split(flat_data,target,random_state=109,test_size=0.3)"
      ],
      "execution_count": 7,
      "outputs": []
    },
    {
      "cell_type": "code",
      "metadata": {
        "colab": {
          "base_uri": "https://localhost:8080/"
        },
        "id": "0NUUcv50cEL1",
        "outputId": "59b3a130-9a1b-40fb-bb40-0c738c6169d9"
      },
      "source": [
        "from sklearn.model_selection import GridSearchCV\n",
        "from sklearn import svm\n",
        "param_grid = [\n",
        "        {'C':[1,10,100,1000],'kernel':['linear']},\n",
        "        {'C':[1,10,100,1000],'gamma':[0.001,0.0001],'kernel':['rbf']},\n",
        "]\n",
        "\n",
        "svc = svm.SVC(probability=True)\n",
        "clf = GridSearchCV(svc,param_grid)\n",
        "clf.fit(x_train,y_train)"
      ],
      "execution_count": 8,
      "outputs": [
        {
          "output_type": "execute_result",
          "data": {
            "text/plain": [
              "GridSearchCV(cv=None, error_score=nan,\n",
              "             estimator=SVC(C=1.0, break_ties=False, cache_size=200,\n",
              "                           class_weight=None, coef0=0.0,\n",
              "                           decision_function_shape='ovr', degree=3,\n",
              "                           gamma='scale', kernel='rbf', max_iter=-1,\n",
              "                           probability=True, random_state=None, shrinking=True,\n",
              "                           tol=0.001, verbose=False),\n",
              "             iid='deprecated', n_jobs=None,\n",
              "             param_grid=[{'C': [1, 10, 100, 1000], 'kernel': ['linear']},\n",
              "                         {'C': [1, 10, 100, 1000], 'gamma': [0.001, 0.0001],\n",
              "                          'kernel': ['rbf']}],\n",
              "             pre_dispatch='2*n_jobs', refit=True, return_train_score=False,\n",
              "             scoring=None, verbose=0)"
            ]
          },
          "metadata": {
            "tags": []
          },
          "execution_count": 8
        }
      ]
    },
    {
      "cell_type": "code",
      "metadata": {
        "colab": {
          "base_uri": "https://localhost:8080/"
        },
        "id": "QXupVCgbcKW-",
        "outputId": "a1373dfb-a8b0-4457-f0cd-0670df74095b"
      },
      "source": [
        "y_pred = clf.predict(x_test)\n",
        "y_pred"
      ],
      "execution_count": 9,
      "outputs": [
        {
          "output_type": "execute_result",
          "data": {
            "text/plain": [
              "array([0, 0, 1, 0, 1, 0, 1, 0, 0, 1, 0, 1, 1, 0, 1, 0, 0, 0])"
            ]
          },
          "metadata": {
            "tags": []
          },
          "execution_count": 9
        }
      ]
    },
    {
      "cell_type": "code",
      "metadata": {
        "colab": {
          "base_uri": "https://localhost:8080/"
        },
        "id": "MyEF-d7kccaP",
        "outputId": "c6ae61cf-eca9-42ae-fbe4-9e2a1d08b650"
      },
      "source": [
        "y_test"
      ],
      "execution_count": 10,
      "outputs": [
        {
          "output_type": "execute_result",
          "data": {
            "text/plain": [
              "array([0, 0, 0, 1, 0, 0, 1, 0, 0, 1, 1, 1, 1, 0, 1, 0, 0, 0])"
            ]
          },
          "metadata": {
            "tags": []
          },
          "execution_count": 10
        }
      ]
    },
    {
      "cell_type": "code",
      "metadata": {
        "id": "IGOUIsTTcd17"
      },
      "source": [
        "from sklearn.metrics import accuracy_score,confusion_matrix,classification_report"
      ],
      "execution_count": 11,
      "outputs": []
    },
    {
      "cell_type": "code",
      "metadata": {
        "colab": {
          "base_uri": "https://localhost:8080/"
        },
        "id": "N8SoTSEmcfsu",
        "outputId": "82cfbe05-e84d-4fc3-d518-b68722f94f6e"
      },
      "source": [
        "accuracy_score(y_pred,y_test)"
      ],
      "execution_count": 25,
      "outputs": [
        {
          "output_type": "stream",
          "text": [
            "0.9477777777777778\n"
          ],
          "name": "stdout"
        }
      ]
    },
    {
      "cell_type": "code",
      "metadata": {
        "colab": {
          "base_uri": "https://localhost:8080/"
        },
        "id": "MD_g_zHqBry-",
        "outputId": "cfc1c69b-c747-4d4a-c7ca-ce41a829c446"
      },
      "source": [
        "c_m = confusion_matrix(y_pred,y_test)\n",
        "c_m"
      ],
      "execution_count": 13,
      "outputs": [
        {
          "output_type": "execute_result",
          "data": {
            "text/plain": [
              "array([[9, 2],\n",
              "       [2, 5]])"
            ]
          },
          "metadata": {
            "tags": []
          },
          "execution_count": 13
        }
      ]
    },
    {
      "cell_type": "code",
      "metadata": {
        "id": "S0oq-rW3zsBr"
      },
      "source": [
        "import pickle\n",
        "pickle.dump(clf,open('img_model.p','wb'))"
      ],
      "execution_count": 14,
      "outputs": []
    },
    {
      "cell_type": "code",
      "metadata": {
        "id": "QFbmREfh_yhR"
      },
      "source": [
        "model = pickle.load(open('img_model.p','rb'))"
      ],
      "execution_count": 15,
      "outputs": []
    },
    {
      "cell_type": "code",
      "metadata": {
        "colab": {
          "base_uri": "https://localhost:8080/",
          "height": 302
        },
        "id": "Q9qRCe0j_2ie",
        "outputId": "3c38673b-ead8-4acf-a2d8-b3792a33d1aa"
      },
      "source": [
        "#testing a new image\n",
        "flat_data = []\n",
        "url = input('enter URL')\n",
        "img = imread(url)\n",
        "img_resized = resize(img,(150,150,3))\n",
        "flat_data.append(img_resized.flatten())\n",
        "plt.imshow(img_resized)\n",
        "flat_data = np.array(flat_data)\n",
        "y_out = model.predict(flat_data)\n",
        "y_out = categories[y_out[0]]\n",
        "print(f'predicted output is {y_out}')"
      ],
      "execution_count": 24,
      "outputs": [
        {
          "output_type": "stream",
          "text": [
            "enter URLhttps://roadandmountainbikereviews.co.uk/wp-content/uploads/2018/11/Mafiabikes-kush-bmx-bike.jpg\n",
            "predicted output is bike\n"
          ],
          "name": "stdout"
        },
        {
          "output_type": "display_data",
          "data": {
            "image/png": "[encoded data removed]",
            "text/plain": [
              "<Figure size 432x288 with 1 Axes>"
            ]
          },
          "metadata": {
            "tags": [],
            "needs_background": "light"
          }
        }
      ]
    },
    {
      "cell_type": "code",
      "metadata": {
        "id": "vZZILptfB4cF",
        "colab": {
          "base_uri": "https://localhost:8080/"
        },
        "outputId": "ca8c3de2-a018-454b-e6b9-9e9a1a503253"
      },
      "source": [
        "!pip install streamlit --quiet\n",
        "!pip install pyngrok==4.1.1 --quiet\n",
        "from pyngrok import ngrok\n"
      ],
      "execution_count": 17,
      "outputs": [
        {
          "output_type": "stream",
          "text": [
            "\u001b[K     |████████████████████████████████| 8.2MB 11.2MB/s \n",
            "\u001b[K     |████████████████████████████████| 163kB 76.3MB/s \n",
            "\u001b[K     |████████████████████████████████| 4.2MB 76.8MB/s \n",
            "\u001b[K     |████████████████████████████████| 81kB 7.4MB/s \n",
            "\u001b[K     |████████████████████████████████| 112kB 67.2MB/s \n",
            "\u001b[K     |████████████████████████████████| 71kB 6.1MB/s \n",
            "\u001b[K     |████████████████████████████████| 122kB 68.3MB/s \n",
            "\u001b[?25h  Building wheel for blinker (setup.py) ... \u001b[?25l\u001b[?25hdone\n",
            "\u001b[31mERROR: google-colab 1.0.0 has requirement ipykernel~=4.10, but you'll have ipykernel 5.5.3 which is incompatible.\u001b[0m\n",
            "  Building wheel for pyngrok (setup.py) ... \u001b[?25l\u001b[?25hdone\n"
          ],
          "name": "stdout"
        }
      ]
    },
    {
      "cell_type": "code",
      "metadata": {
        "id": "NVSiMi_eprVY",
        "colab": {
          "base_uri": "https://localhost:8080/"
        },
        "outputId": "60ae9d37-d7e3-4c66-b50e-14d2ed949bc7"
      },
      "source": [
        "%%writefile app.py\n",
        "import streamlit as st\n",
        "import numpy as np\n",
        "from skimage.io import imread\n",
        "from skimage.transform import resize\n",
        "import pickle\n",
        "from PIL import Image\n",
        "st.set_option(\"deprecation.showfileUploaderEncoding\",False)\n",
        "st.title(\"IMAGE CLASSIFIER\")\n",
        "st.text(\"Upload the Image\")\n",
        "clf = pickle.load(open('img_model.p','rb'))\n",
        "uploadedImage = st.file_uploader(\"Select an Image\",type=\"jpg\")\n",
        "if uploadedImage is not None:\n",
        "  img=Image.open(uploadedImage)\n",
        "  st.image(img,caption=\"Uploaded Image \")\n",
        "  if st.button(\"Predict\"):\n",
        "    categories = ['bike','dogs']\n",
        "    flat_data=[]\n",
        "    img = np.array(img)\n",
        "    img_resized = resize(img,(150,150,3))\n",
        "    flat_data.append(img_resized.flatten())\n",
        "    flat_data = np.array(flat_data)\n",
        "    y_out = clf.predict(flat_data)\n",
        "    y_out = categories[y_out[0]]\n",
        "    st.write(f'Predicted Output Is {y_out}')"
      ],
      "execution_count": 21,
      "outputs": [
        {
          "output_type": "stream",
          "text": [
            "Overwriting app.py\n"
          ],
          "name": "stdout"
        }
      ]
    },
    {
      "cell_type": "code",
      "metadata": {
        "id": "t5EJSEDipz50",
        "colab": {
          "base_uri": "https://localhost:8080/",
          "height": 52
        },
        "outputId": "e0c22c7c-b999-4a13-daf6-33f0512b9c7f"
      },
      "source": [
        "!nohup streamlit run app.py &\n",
        "url = ngrok.connect(port='8501')\n",
        "url"
      ],
      "execution_count": 19,
      "outputs": [
        {
          "output_type": "stream",
          "text": [
            "nohup: appending output to 'nohup.out'\n"
          ],
          "name": "stdout"
        },
        {
          "output_type": "execute_result",
          "data": {
            "application/vnd.google.colaboratory.intrinsic+json": {
              "type": "string"
            },
            "text/plain": [
              "'http://99bad50b77a9.ngrok.io'"
            ]
          },
          "metadata": {
            "tags": []
          },
          "execution_count": 19
        }
      ]
    },
    {
      "cell_type": "code",
      "metadata": {
        "id": "_LSMf3xjp1qt"
      },
      "source": [
        ""
      ],
      "execution_count": 19,
      "outputs": []
    }
  ]
}